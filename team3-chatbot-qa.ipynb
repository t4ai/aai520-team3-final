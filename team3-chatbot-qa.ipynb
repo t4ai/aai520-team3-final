{
 "cells": [
  {
   "cell_type": "markdown",
   "metadata": {},
   "source": [
    "# Advanced Generative Chatbot Using BERT model\n",
    "## AAI-520 Team 3 Final Project\n",
    "\n",
    "Team 3 Members:  Tyler Foreman, Ahmed Ahmed, Tursun Alkam\n",
    "\n",
    "Date:  October 23, 2023\n",
    "\n",
    "GitHub Repository: https://github.com/t4ai/aai520-team3-final"
   ]
  },
  {
   "cell_type": "code",
   "execution_count": 1,
   "metadata": {},
   "outputs": [],
   "source": [
    "import re\n",
    "import numpy as np\n",
    "import pandas as pd\n",
    "import matplotlib.pyplot as plt\n",
    "import scipy.stats as stats\n",
    "import random\n",
    "import statistics\n",
    "import spacy\n",
    "import nltk\n",
    "import os\n",
    "import json\n",
    "\n",
    "#from transformers import BertModel, BertTokenizerFast, AdamW"
   ]
  },
  {
   "cell_type": "markdown",
   "metadata": {},
   "source": [
    "## Load Dataset and Process into Format for BERT Tokenizer\n",
    " \n",
    " - For Dev and Training:\n",
    " - Load data and process into contexts, questions and answers { text, start, end}\n",
    " --  For each question/answer: add context entry to contexts[], add question to questions[] and answer to answers[]"
   ]
  },
  {
   "cell_type": "code",
   "execution_count": 4,
   "metadata": {},
   "outputs": [],
   "source": [
    "# helper function to load dataset from JSON file\n",
    "def load_squad_data_file(file_path):\n",
    "    f = open(file_path, 'rb')\n",
    "    squad_data = json.load(f)\n",
    "\n",
    "    contexts = []\n",
    "    questions = []\n",
    "    answers = []\n",
    "\n",
    "    # traverse JSON object tree\n",
    "    for json_groups in squad_data['data']:\n",
    "        for paragraph in json_groups['paragraphs']:\n",
    "            curr_context = paragraph['context']\n",
    "            for qa in paragraph['qas']:\n",
    "                curr_question = qa['question']\n",
    "                for answer in qa['answers']:\n",
    "                    # add entries for each answer to all lists\n",
    "                    contexts.append(curr_context.lower())\n",
    "                    questions.append(curr_question.lower())\n",
    "                    answers.append(answer)\n",
    "                    \n",
    "    return contexts, questions, answers"
   ]
  },
  {
   "cell_type": "code",
   "execution_count": 11,
   "metadata": {},
   "outputs": [],
   "source": [
    "# load the datasets from JSON\n",
    "contexts_train, questions_train, answers_train = load_squad_data_file('./dataset/train-v1.1.json')\n",
    "contexts_test, questions_test, answers_test = load_squad_data_file('./dataset/dev-v1.1.json')"
   ]
  },
  {
   "cell_type": "code",
   "execution_count": 18,
   "metadata": {},
   "outputs": [
    {
     "name": "stdout",
     "output_type": "stream",
     "text": [
      "[Train Samples]\n",
      "architecturally, the school has a catholic character. atop the main building's gold dome is a golden statue of the virgin mary. immediately in front of the main building and facing it, is a copper statue of christ with arms upraised with the legend \"venite ad me omnes\". next to the main building is the basilica of the sacred heart. immediately behind the basilica is the grotto, a marian place of prayer and reflection. it is a replica of the grotto at lourdes, france where the virgin mary reputedly appeared to saint bernadette soubirous in 1858. at the end of the main drive (and in a direct line that connects through 3 statues and the gold dome), is a simple, modern stone statue of mary.\n",
      "['to whom did the virgin mary allegedly appear in 1858 in lourdes france?', 'what is in front of the notre dame main building?', 'the basilica of the sacred heart at notre dame is beside to which structure?', 'what is the grotto at notre dame?', 'what sits on top of the main building at notre dame?']\n",
      "[{'answer_start': 515, 'text': 'Saint Bernadette Soubirous'}, {'answer_start': 188, 'text': 'a copper statue of Christ'}, {'answer_start': 279, 'text': 'the Main Building'}, {'answer_start': 381, 'text': 'a Marian place of prayer and reflection'}, {'answer_start': 92, 'text': 'a golden statue of the Virgin Mary'}]\n",
      "\n",
      "[Test Samples]\n",
      "super bowl 50 was an american football game to determine the champion of the national football league (nfl) for the 2015 season. the american football conference (afc) champion denver broncos defeated the national football conference (nfc) champion carolina panthers 24–10 to earn their third super bowl title. the game was played on february 7, 2016, at levi's stadium in the san francisco bay area at santa clara, california. as this was the 50th super bowl, the league emphasized the \"golden anniversary\" with various gold-themed initiatives, as well as temporarily suspending the tradition of naming each super bowl game with roman numerals (under which the game would have been known as \"super bowl l\"), so that the logo could prominently feature the arabic numerals 50.\n",
      "['which nfl team represented the afc at super bowl 50?', 'which nfl team represented the afc at super bowl 50?', 'which nfl team represented the afc at super bowl 50?', 'which nfl team represented the nfc at super bowl 50?', 'which nfl team represented the nfc at super bowl 50?']\n",
      "[{'answer_start': 177, 'text': 'Denver Broncos'}, {'answer_start': 177, 'text': 'Denver Broncos'}, {'answer_start': 177, 'text': 'Denver Broncos'}, {'answer_start': 249, 'text': 'Carolina Panthers'}, {'answer_start': 249, 'text': 'Carolina Panthers'}]\n"
     ]
    }
   ],
   "source": [
    "# inspect some samples to make sure everything was loaded correctly\n",
    "print(\"[Train Samples]\")\n",
    "print(contexts_train[0])\n",
    "print(questions_train[:5])\n",
    "print(answers_train[:5])\n",
    "\n",
    "\n",
    "print(\"\\n[Test Samples]\")\n",
    "print(contexts_test[0])\n",
    "print(questions_test[:5])\n",
    "print(answers_test[:5])"
   ]
  },
  {
   "cell_type": "markdown",
   "metadata": {},
   "source": [
    "## Data Cleanup\n",
    "-  Perform routine cleanup on data:\n",
    "    - remove punctuation marks\n",
    "    - convert to lowercase\n",
    "    - remove numbers\n",
    "    - remove whitespace\n",
    "- Remove stop words\n",
    "- Lemmatize the text\n",
    "    - Normalize to base words"
   ]
  },
  {
   "cell_type": "code",
   "execution_count": null,
   "metadata": {},
   "outputs": [],
   "source": []
  }
 ],
 "metadata": {
  "kernelspec": {
   "display_name": "base-ml",
   "language": "python",
   "name": "python3"
  },
  "language_info": {
   "codemirror_mode": {
    "name": "ipython",
    "version": 3
   },
   "file_extension": ".py",
   "mimetype": "text/x-python",
   "name": "python",
   "nbconvert_exporter": "python",
   "pygments_lexer": "ipython3",
   "version": "3.11.3"
  },
  "orig_nbformat": 4
 },
 "nbformat": 4,
 "nbformat_minor": 2
}
